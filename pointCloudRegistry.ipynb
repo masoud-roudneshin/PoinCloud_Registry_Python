{
  "nbformat": 4,
  "nbformat_minor": 0,
  "metadata": {
    "colab": {
      "provenance": []
    },
    "kernelspec": {
      "name": "python3",
      "display_name": "Python 3"
    },
    "language_info": {
      "name": "python"
    }
  },
  "cells": [
    {
      "cell_type": "markdown",
      "source": [
        "Point Cloud Registration"
      ],
      "metadata": {
        "id": "fuvpprVw87uE"
      }
    },
    {
      "cell_type": "code",
      "execution_count": 1,
      "metadata": {
        "id": "I2cV7wUQrREf"
      },
      "outputs": [],
      "source": [
        "import numpy as np\n",
        "import matplotlib.pyplot as plt\n",
        "from scipy import linalg"
      ]
    },
    {
      "cell_type": "markdown",
      "source": [
        "To gain some insights about the problem, see the fowllowing beautiful link by Russ Tedrake:\n",
        "https://manipulation.csail.mit.edu/pose.html"
      ],
      "metadata": {
        "id": "uF_yFvgL96yT"
      }
    },
    {
      "cell_type": "code",
      "source": [
        "def findPoseEstimate(cloudPoints,scenaryPoints):\n",
        "\n",
        "  # This function estimates the pose of scenary point for a given input\n",
        "  # cloudPoints,scenaryPoints. We are looking for the translation vector p\n",
        "  # and the rotation matrix R such that\n",
        "  # min sum (p + R * cloudPoints_i - scenaryPoints_i)' * (p + R * cloudPoints_i - scenaryPoints_i)\n",
        "  # Input:\n",
        "  # a. cloudPoints: np.array of cloud points either in R2 or R3\n",
        "  # b. scenaryPoints: np.array of scenary points either in R2 or R3\n",
        "\n",
        "  # Output:\n",
        "  # i. recoveredPoistion: translation vector (np.array) either in R2 or R3\n",
        "  # ii. recoveredRotation: rotation matrix either in R2x2 or R3x3\n",
        "\n",
        "  # We recover the Rotation Matrix and the Translation Vector\n",
        "  pointDimension = np.shape(cloudPoints)[1];\n",
        "  numberPoints = np.shape(cloudPoints)[0];\n",
        "\n",
        "  # Find the mean of cloudPoints and scenaryPoints\n",
        "  cloudPointsMean = np.mean(cloudPoints,0);\n",
        "  scenaryPointsMean = np.mean(scenaryPoints,0);\n",
        "\n",
        " # Find Data Matrix\n",
        "  dataMatrix = np.zeros([pointDimension,pointDimension]);\n",
        "  for i in range(numberPoints):\n",
        "\n",
        "      scenaryToMeanDiff = scenaryPoints[i] - scenaryPointsMean;\n",
        "      cloudToMeanDiff = cloudPoints[i] - cloudPointsMean;\n",
        "      dataMatrix = dataMatrix + np.outer(scenaryToMeanDiff,cloudToMeanDiff);\n",
        "\n",
        "  # find SVD of dataMatrix\n",
        "  U, D, VT = linalg.svd(dataMatrix)\n",
        "\n",
        "\n",
        "  # Solution\n",
        "  onesVector = np.ones(pointDimension - 1);\n",
        "  det_UV = linalg.det(U@VT);\n",
        "  diagVector = np.append(onesVector,det_UV);\n",
        "  D_Recovered = np.diag(diagVector);\n",
        "  recoveredRotation = U @ D_Recovered @ VT;\n",
        "  recoveredPoistion = scenaryPointsMean - recoveredRotation @ cloudPointsMean;\n",
        "\n",
        "  return recoveredPoistion, recoveredRotation, U, VT, det_UV"
      ],
      "metadata": {
        "id": "eNObbe92rbya"
      },
      "execution_count": 2,
      "outputs": []
    },
    {
      "cell_type": "code",
      "source": [
        "# This is a simple test of the algorithm using a bunch of randomly generated points on a circle with perturbed radius\n",
        "\n",
        "theta = np.arange(0, 360, 30) * np.pi/180;\n",
        "# np.random.seed(42)\n",
        "# radiusPerturbation = np.random.random(size = len(theta))\n",
        "radiusPerturbation = np.array([0.087077, 0.80209, 0.98914, 0.066946, 0.9394, 0.018178, 0.68384, 0.78374, 0.53414, 0.88536, 0.899, 0.62594]);\n",
        "radius = 5 + 1 *(radiusPerturbation - 0.5);\n",
        "\n",
        "x = radius * np.cos(theta);\n",
        "y = radius * np.sin(theta);\n",
        "cloudPoints = np.vstack((x, y)).T;\n",
        "\n",
        "## Rotate and Translate point\n",
        "translationVector = np.array([10,-12]);\n",
        "thetaRot = 45 * np.pi/180;\n",
        "R = np.array([[np.cos(thetaRot), -np.sin(thetaRot)],[np.sin(thetaRot), np.cos(thetaRot)]]);\n",
        "\n",
        "scenaryPoints = translationVector + cloudPoints @ R.T;\n",
        "\n",
        "recoveredPoistion, recoveredRotation, U, VT, det_UV = findPoseEstimate(cloudPoints,scenaryPoints)\n",
        "recoveredPoistion\n"
      ],
      "metadata": {
        "id": "Jcq1BUuJrgQC",
        "colab": {
          "base_uri": "https://localhost:8080/"
        },
        "outputId": "f3fddf94-fb45-43b5-ed69-212265069cab"
      },
      "execution_count": 3,
      "outputs": [
        {
          "output_type": "execute_result",
          "data": {
            "text/plain": [
              "array([ 10., -12.])"
            ]
          },
          "metadata": {},
          "execution_count": 3
        }
      ]
    }
  ]
}